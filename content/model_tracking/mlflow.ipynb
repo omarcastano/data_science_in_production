{
 "cells": [
  {
   "cell_type": "markdown",
   "id": "b812b557",
   "metadata": {},
   "source": [
    "# MLflow Tracking"
   ]
  },
  {
   "cell_type": "markdown",
   "id": "a7425f6e",
   "metadata": {},
   "source": [
    "First let's import the necessary libraries:"
   ]
  },
  {
   "cell_type": "code",
   "execution_count": 32,
   "id": "3b02338e",
   "metadata": {},
   "outputs": [],
   "source": [
    "# import libraries\n",
    "import mlflow\n",
    "from mlflow.models import infer_signature\n",
    "from mlflow import log_metric, log_param, log_artifact\n",
    "from sklearn.linear_model import LogisticRegression\n",
    "import seaborn as sns\n",
    "from sklearn.metrics import accuracy_score\n",
    "from sklearn.model_selection import train_test_split"
   ]
  },
  {
   "cell_type": "markdown",
   "id": "bfcd5c25",
   "metadata": {},
   "source": [
    "Now let's set the MLflow tracking URI to the local server."
   ]
  },
  {
   "cell_type": "code",
   "execution_count": 25,
   "id": "d6977eec",
   "metadata": {},
   "outputs": [],
   "source": [
    "# mlflow tracking uri\n",
    "mlflow.set_tracking_uri(\"http://127.0.0.1:8000\")"
   ]
  },
  {
   "cell_type": "markdown",
   "id": "f437a880",
   "metadata": {},
   "source": [
    "Now, let's train a model and prepare metadata for logging"
   ]
  },
  {
   "cell_type": "code",
   "execution_count": 26,
   "id": "aa597f11",
   "metadata": {},
   "outputs": [
    {
     "data": {
      "text/plain": [
       "1.0"
      ]
     },
     "execution_count": 26,
     "metadata": {},
     "output_type": "execute_result"
    }
   ],
   "source": [
    "# prepare dataset\n",
    "iris = sns.load_dataset(\"iris\")\n",
    "X_train, X_test, y_train, y_test = train_test_split(iris.drop(\"species\", axis=1), iris[\"species\"], test_size=0.2, random_state=42)\n",
    "\n",
    "# model parameters\n",
    "model_parameters = {\"C\": 1.0, \"max_iter\": 100}\n",
    "\n",
    "# train model\n",
    "model = LogisticRegression(**model_parameters)\n",
    "model.fit(X_train, y_train)\n",
    "\n",
    "# make predictions\n",
    "y_pred = model.predict(X_test)\n",
    "\n",
    "# compute metrics\n",
    "accuracy = accuracy_score(y_test, y_pred)\n",
    "accuracy"
   ]
  },
  {
   "cell_type": "markdown",
   "id": "bec4183e",
   "metadata": {},
   "source": [
    "Now, let's log model hyperparameters, model and metrics"
   ]
  },
  {
   "cell_type": "code",
   "execution_count": 44,
   "id": "bd76c1bb",
   "metadata": {},
   "outputs": [
    {
     "name": "stderr",
     "output_type": "stream",
     "text": [
      "2025/07/23 19:24:54 WARNING mlflow.utils.environment: Failed to resolve installed pip version. ``pip`` will be added to conda.yaml environment spec without a version specifier.\n"
     ]
    },
    {
     "name": "stdout",
     "output_type": "stream",
     "text": [
      "🏃 View run lyrical-carp-294 at: http://127.0.0.1:8000/#/experiments/240309871552911086/runs/1447a311866f4d458ea6669bf89b20df\n",
      "🧪 View experiment at: http://127.0.0.1:8000/#/experiments/240309871552911086\n"
     ]
    }
   ],
   "source": [
    "# create a new ML experiment\n",
    "mlflow.set_experiment(\"iris_experiment\")\n",
    "\n",
    "# start a new run\n",
    "with mlflow.start_run():\n",
    "\n",
    "    # log hyperparameteres\n",
    "    mlflow.log_params(model_parameters)\n",
    "\n",
    "    # signature\n",
    "    signature = infer_signature(X_train, model.predict(X_train))\n",
    "\n",
    "    # log model\n",
    "    model_info = mlflow.sklearn.log_model(\n",
    "        sk_model=model, \n",
    "        name=\"iris_model_v1\", \n",
    "        signature=signature,\n",
    "        input_example=X_train,\n",
    "        #registered_model_name=\"last_iris_model\"\n",
    "        )\n",
    "    \n",
    "    # log metrics\n",
    "    mlflow.log_metric(\"accuracy\", accuracy)\n",
    "    \n",
    "    # set tag\n",
    "    mlflow.set_tag(\"version\", \"0.0.1\")"
   ]
  },
  {
   "cell_type": "code",
   "execution_count": 41,
   "id": "c304c57f",
   "metadata": {},
   "outputs": [
    {
     "data": {
      "text/plain": [
       "'models:/m-2a3d32d00a6b4870a26b65fe047b42b6'"
      ]
     },
     "execution_count": 41,
     "metadata": {},
     "output_type": "execute_result"
    }
   ],
   "source": [
    "model_info.model_uri"
   ]
  }
 ],
 "metadata": {
  "kernelspec": {
   "display_name": ".venv",
   "language": "python",
   "name": "python3"
  },
  "language_info": {
   "codemirror_mode": {
    "name": "ipython",
    "version": 3
   },
   "file_extension": ".py",
   "mimetype": "text/x-python",
   "name": "python",
   "nbconvert_exporter": "python",
   "pygments_lexer": "ipython3",
   "version": "3.12.10"
  }
 },
 "nbformat": 4,
 "nbformat_minor": 5
}
