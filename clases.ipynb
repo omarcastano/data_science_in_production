{
 "cells": [
  {
   "cell_type": "code",
   "execution_count": 2,
   "id": "df3e60b4",
   "metadata": {},
   "outputs": [],
   "source": [
    "import seaborn as sns"
   ]
  },
  {
   "cell_type": "code",
   "execution_count": 3,
   "id": "58badbbb",
   "metadata": {},
   "outputs": [],
   "source": [
    "sns.load_dataset(\"tips\").sample(20).reset_index(drop=True).to_csv(\"tips.csv\", index=False)"
   ]
  }
 ],
 "metadata": {
  "kernelspec": {
   "display_name": ".venv",
   "language": "python",
   "name": "python3"
  },
  "language_info": {
   "codemirror_mode": {
    "name": "ipython",
    "version": 3
   },
   "file_extension": ".py",
   "mimetype": "text/x-python",
   "name": "python",
   "nbconvert_exporter": "python",
   "pygments_lexer": "ipython3",
   "version": "3.12.10"
  }
 },
 "nbformat": 4,
 "nbformat_minor": 5
}
